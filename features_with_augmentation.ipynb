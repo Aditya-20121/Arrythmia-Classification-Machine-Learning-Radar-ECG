{
  "nbformat": 4,
  "nbformat_minor": 0,
  "metadata": {
    "colab": {
      "provenance": [],
      "toc_visible": true
    },
    "kernelspec": {
      "name": "python3",
      "display_name": "Python 3"
    },
    "language_info": {
      "name": "python"
    }
  },
  "cells": [
    {
      "cell_type": "markdown",
      "source": [
        "# Pre Processing"
      ],
      "metadata": {
        "id": "CxsM-DhanM4m"
      }
    },
    {
      "cell_type": "code",
      "execution_count": 1,
      "metadata": {
        "id": "BZ6mHXPamhw6"
      },
      "outputs": [],
      "source": [
        "import pandas as pd\n",
        "import numpy as np\n",
        "from sklearn.model_selection import train_test_split\n",
        "from sklearn.preprocessing import StandardScaler\n",
        "from sklearn.tree import DecisionTreeClassifier\n",
        "from sklearn.svm import SVC\n",
        "from sklearn.neighbors import KNeighborsClassifier\n",
        "from sklearn.metrics import accuracy_score, confusion_matrix, classification_report\n",
        "import seaborn as sns\n",
        "import matplotlib.pyplot as plt\n",
        "import tensorflow as tf\n",
        "from tensorflow.keras.models import Sequential\n",
        "from tensorflow.keras.layers import Dense, Flatten, Conv1D, MaxPooling1D, Dropout\n",
        "from scipy.io import loadmat\n",
        "from sklearn.metrics import ConfusionMatrixDisplay\n",
        "from sklearn.metrics import classification_report\n"
      ]
    },
    {
      "cell_type": "code",
      "source": [
        "# Mount Google Drive\n",
        "from google.colab import drive\n",
        "drive.mount('/content/drive')"
      ],
      "metadata": {
        "id": "OWT6VFIJmqmW",
        "colab": {
          "base_uri": "https://localhost:8080/"
        },
        "outputId": "e6b94bf2-ac64-4e2b-a470-d8ab4f7f3b1a"
      },
      "execution_count": 2,
      "outputs": [
        {
          "output_type": "stream",
          "name": "stdout",
          "text": [
            "Mounted at /content/drive\n"
          ]
        }
      ]
    },
    {
      "cell_type": "code",
      "source": [
        "# Path to your .csv file\n",
        "file_path = '/content/drive/MyDrive/Projects/ML project/Processed Extracted Data/features_augmented_AV.csv'"
      ],
      "metadata": {
        "id": "nwPuYIF9mrRw"
      },
      "execution_count": 12,
      "outputs": []
    },
    {
      "cell_type": "code",
      "source": [
        "# Load data from the .csv file\n",
        "mat_data = pd.read_csv(file_path)"
      ],
      "metadata": {
        "id": "C37x25jEmxSn"
      },
      "execution_count": 13,
      "outputs": []
    },
    {
      "cell_type": "code",
      "source": [
        "from sklearn.model_selection import train_test_split\n",
        "from sklearn.preprocessing import StandardScaler\n",
        "\n",
        "# Split features (X) and target (y)\n",
        "X = mat_data.iloc[:, :13]  # Features (columns 0 to 12)\n",
        "y = mat_data.iloc[:, 13]   # Labels (column 141th column)"
      ],
      "metadata": {
        "id": "K91xjnQsaRVK"
      },
      "execution_count": 14,
      "outputs": []
    },
    {
      "cell_type": "code",
      "source": [
        "# Split the data into training and testing sets (80% training, 20% testing)\n",
        "X_train, X_test, y_train, y_test = train_test_split(X, y, test_size=0.2, random_state=42)\n",
        "\n",
        "# Standardize features by removing the mean and scaling to unit variance\n",
        "scaler = StandardScaler()\n",
        "X_train = scaler.fit_transform(X_train)\n",
        "X_test = scaler.transform(X_test)\n",
        "\n"
      ],
      "metadata": {
        "id": "ipjqWbTfm5yt"
      },
      "execution_count": 15,
      "outputs": []
    },
    {
      "cell_type": "markdown",
      "source": [
        "# Decision Tree"
      ],
      "metadata": {
        "id": "aTcZf4YHnZBt"
      }
    },
    {
      "cell_type": "code",
      "source": [
        "\n",
        "# Decision Tree Classifier\n",
        "dt_classifier = DecisionTreeClassifier(random_state=42)\n",
        "dt_classifier.fit(X_train, y_train)\n",
        "dt_pred = dt_classifier.predict(X_test)\n",
        "dt_accuracy = accuracy_score(y_test, dt_pred)\n",
        "dt_conf_matrix = confusion_matrix(y_test, dt_pred)\n",
        "dt_class_report = classification_report(y_test, dt_pred)\n",
        "\n",
        "print(\"Decision Tree Accuracy:\", dt_accuracy)\n",
        "print(\"Decision Tree Confusion Matrix:\")\n",
        "print(dt_conf_matrix)\n",
        "print(\"Decision Tree Classification Report:\")\n",
        "print(dt_class_report)\n",
        "\n",
        "# Plot confusion matrix\n",
        "plt.figure(figsize=(4, 3))\n",
        "ConfusionMatrixDisplay(dt_conf_matrix, display_labels=['A', 'V' ]).plot()\n",
        "plt.title('Decision Tree')\n",
        "plt.show()"
      ],
      "metadata": {
        "colab": {
          "base_uri": "https://localhost:8080/",
          "height": 732
        },
        "id": "HsJQ2x0Onh90",
        "outputId": "9f4031f4-8364-4105-cab9-91aafa4ee04a"
      },
      "execution_count": null,
      "outputs": [
        {
          "output_type": "stream",
          "name": "stdout",
          "text": [
            "Decision Tree Accuracy: 0.9428200129954516\n",
            "Decision Tree Confusion Matrix:\n",
            "[[771  44]\n",
            " [ 44 680]]\n",
            "Decision Tree Classification Report:\n",
            "              precision    recall  f1-score   support\n",
            "\n",
            "           0       0.95      0.95      0.95       815\n",
            "           1       0.94      0.94      0.94       724\n",
            "\n",
            "    accuracy                           0.94      1539\n",
            "   macro avg       0.94      0.94      0.94      1539\n",
            "weighted avg       0.94      0.94      0.94      1539\n",
            "\n"
          ]
        },
        {
          "output_type": "display_data",
          "data": {
            "text/plain": [
              "<Figure size 400x300 with 0 Axes>"
            ]
          },
          "metadata": {}
        },
        {
          "output_type": "display_data",
          "data": {
            "text/plain": [
              "<Figure size 640x480 with 2 Axes>"
            ],
            "image/png": "[encoded data removed]"
          },
          "metadata": {}
        }
      ]
    },
    {
      "cell_type": "markdown",
      "source": [
        "# KNN"
      ],
      "metadata": {
        "id": "UNbAcNKhnqDx"
      }
    },
    {
      "cell_type": "code",
      "source": [
        "# K-Nearest Neighbors Classifier\n",
        "knn_classifier = KNeighborsClassifier(n_neighbors=5)\n",
        "knn_classifier.fit(X_train, y_train)\n",
        "knn_pred = knn_classifier.predict(X_test)\n",
        "knn_accuracy = accuracy_score(y_test, knn_pred)\n",
        "knn_conf_matrix = confusion_matrix(y_test, knn_pred)\n",
        "knn_class_report = classification_report(y_test, knn_pred)\n",
        "\n",
        "print(\"\\nKNN Accuracy:\", knn_accuracy)\n",
        "print(\"KNN Confusion Matrix:\")\n",
        "print(knn_conf_matrix)\n",
        "print(\"KNN Classification Report:\")\n",
        "print(knn_class_report)\n",
        "\n",
        "# Plot confusion matrix\n",
        "plt.figure(figsize=(4, 3))\n",
        "ConfusionMatrixDisplay(knn_conf_matrix, display_labels=['A', 'V' ]).plot()\n",
        "plt.title('KNN')\n",
        "plt.show()"
      ],
      "metadata": {
        "colab": {
          "base_uri": "https://localhost:8080/",
          "height": 750
        },
        "id": "RlIq_AUjny8_",
        "outputId": "411aafc4-8db0-434f-94d0-12a993731684"
      },
      "execution_count": null,
      "outputs": [
        {
          "output_type": "stream",
          "name": "stdout",
          "text": [
            "\n",
            "KNN Accuracy: 0.9421702404158544\n",
            "KNN Confusion Matrix:\n",
            "[[748  67]\n",
            " [ 22 702]]\n",
            "KNN Classification Report:\n",
            "              precision    recall  f1-score   support\n",
            "\n",
            "           0       0.97      0.92      0.94       815\n",
            "           1       0.91      0.97      0.94       724\n",
            "\n",
            "    accuracy                           0.94      1539\n",
            "   macro avg       0.94      0.94      0.94      1539\n",
            "weighted avg       0.94      0.94      0.94      1539\n",
            "\n"
          ]
        },
        {
          "output_type": "display_data",
          "data": {
            "text/plain": [
              "<Figure size 400x300 with 0 Axes>"
            ]
          },
          "metadata": {}
        },
        {
          "output_type": "display_data",
          "data": {
            "text/plain": [
              "<Figure size 640x480 with 2 Axes>"
            ],
            "image/png": "[encoded data removed]"
          },
          "metadata": {}
        }
      ]
    },
    {
      "cell_type": "markdown",
      "source": [
        "# Random Forest"
      ],
      "metadata": {
        "id": "iBi9aDiMn9nM"
      }
    },
    {
      "cell_type": "code",
      "source": [
        "from sklearn.ensemble import RandomForestClassifier\n",
        "\n",
        "# Create a Random Forest classifier\n",
        "random_forest = RandomForestClassifier(n_estimators=100,\n",
        "                                criterion='gini',\n",
        "                                max_depth=None,\n",
        "                                min_samples_split=2,\n",
        "                                min_samples_leaf=1,\n",
        "                                max_features='auto',\n",
        "                                bootstrap=True,\n",
        "                                class_weight=None,\n",
        "                                random_state=42)\n",
        "\n",
        "# Train the model\n",
        "random_forest.fit(X_train, y_train)\n",
        "\n",
        "# Make predictions\n",
        "y_pred = random_forest.predict(X_test)\n",
        "\n",
        "# Evaluate the model\n",
        "accuracy = accuracy_score(y_test, y_pred)\n",
        "rf_conf_matrix = confusion_matrix(y_test, y_pred)\n",
        "class_report = classification_report(y_test, y_pred)\n",
        "\n",
        "print(\"Accuracy:\", accuracy)\n",
        "print(\"Confusion Matrix:\\n\", rf_conf_matrix)\n",
        "print(\"Classification Report:\\n\", class_report)\n",
        "\n",
        "\n",
        "# Plot confusion matrix\n",
        "plt.figure(figsize=(4, 3))\n",
        "ConfusionMatrixDisplay(rf_conf_matrix, display_labels=['A', 'V' ]).plot()\n",
        "plt.title('Random Forest')\n",
        "plt.show()"
      ],
      "metadata": {
        "colab": {
          "base_uri": "https://localhost:8080/",
          "height": 787
        },
        "id": "OLip_a88oAQr",
        "outputId": "87491c7c-cd58-4675-e447-c081c769c84d"
      },
      "execution_count": null,
      "outputs": [
        {
          "output_type": "stream",
          "name": "stderr",
          "text": [
            "/usr/local/lib/python3.10/dist-packages/sklearn/ensemble/_forest.py:424: FutureWarning: `max_features='auto'` has been deprecated in 1.1 and will be removed in 1.3. To keep the past behaviour, explicitly set `max_features='sqrt'` or remove this parameter as it is also the default value for RandomForestClassifiers and ExtraTreesClassifiers.\n",
            "  warn(\n"
          ]
        },
        {
          "output_type": "stream",
          "name": "stdout",
          "text": [
            "Accuracy: 0.9564652371669915\n",
            "Confusion Matrix:\n",
            " [[775  40]\n",
            " [ 27 697]]\n",
            "Classification Report:\n",
            "               precision    recall  f1-score   support\n",
            "\n",
            "           0       0.97      0.95      0.96       815\n",
            "           1       0.95      0.96      0.95       724\n",
            "\n",
            "    accuracy                           0.96      1539\n",
            "   macro avg       0.96      0.96      0.96      1539\n",
            "weighted avg       0.96      0.96      0.96      1539\n",
            "\n"
          ]
        },
        {
          "output_type": "display_data",
          "data": {
            "text/plain": [
              "<Figure size 400x300 with 0 Axes>"
            ]
          },
          "metadata": {}
        },
        {
          "output_type": "display_data",
          "data": {
            "text/plain": [
              "<Figure size 640x480 with 2 Axes>"
            ],
            "image/png": "[encoded data removed]"
          },
          "metadata": {}
        }
      ]
    },
    {
      "cell_type": "markdown",
      "source": [
        "# Ensemble of bagged trees\n",
        "*with a base classifier of Decision Trees*"
      ],
      "metadata": {
        "id": "HtWkuiPuoe34"
      }
    },
    {
      "cell_type": "code",
      "source": [
        "#  Esemble of Bagged trees with a base classifier of Decision Tree\n",
        "\n",
        "from sklearn.model_selection import train_test_split\n",
        "from sklearn.tree import DecisionTreeClassifier\n",
        "from sklearn.ensemble import BaggingClassifier\n",
        "\n",
        "# Initialize the base decision tree classifier\n",
        "base_classifier = DecisionTreeClassifier()\n",
        "\n",
        "# Initialize the bagging classifier with decision tree as base estimator\n",
        "bagging_classifier = BaggingClassifier(estimator=base_classifier, n_estimators=10, random_state=42)\n",
        "\n",
        "# Train the bagging classifier\n",
        "bagging_classifier.fit(X_train, y_train)\n",
        "\n",
        "# Make predictions\n",
        "y_pred = bagging_classifier.predict(X_test)\n",
        "\n",
        "# Evaluate the model\n",
        "accuracy = accuracy_score(y_test, y_pred)\n",
        "ebt_conf_matrix = confusion_matrix(y_test, y_pred)\n",
        "class_report = classification_report(y_test, y_pred)\n",
        "\n",
        "print(\"Accuracy:\", accuracy)\n",
        "print(\"Confusion Matrix:\\n\", ebt_conf_matrix)\n",
        "print(\"Classification Report:\\n\", class_report)\n",
        "\n",
        "# Plot confusion matrix\n",
        "plt.figure(figsize=(4, 3))\n",
        "ConfusionMatrixDisplay(ebt_conf_matrix, display_labels=['A', 'V']).plot()\n",
        "plt.title('EBT-DT')\n",
        "plt.show()"
      ],
      "metadata": {
        "colab": {
          "base_uri": "https://localhost:8080/",
          "height": 732
        },
        "id": "coWZXWQjoiGp",
        "outputId": "5b23438f-3706-4848-8f49-37c5c96431d8"
      },
      "execution_count": null,
      "outputs": [
        {
          "output_type": "stream",
          "name": "stdout",
          "text": [
            "Accuracy: 0.9512670565302144\n",
            "Confusion Matrix:\n",
            " [[772  43]\n",
            " [ 32 692]]\n",
            "Classification Report:\n",
            "               precision    recall  f1-score   support\n",
            "\n",
            "           0       0.96      0.95      0.95       815\n",
            "           1       0.94      0.96      0.95       724\n",
            "\n",
            "    accuracy                           0.95      1539\n",
            "   macro avg       0.95      0.95      0.95      1539\n",
            "weighted avg       0.95      0.95      0.95      1539\n",
            "\n"
          ]
        },
        {
          "output_type": "display_data",
          "data": {
            "text/plain": [
              "<Figure size 400x300 with 0 Axes>"
            ]
          },
          "metadata": {}
        },
        {
          "output_type": "display_data",
          "data": {
            "text/plain": [
              "<Figure size 640x480 with 2 Axes>"
            ],
            "image/png": "[encoded data removed]"
          },
          "metadata": {}
        }
      ]
    },
    {
      "cell_type": "markdown",
      "source": [
        "# Ensemble of bagged trees 2\n",
        "*with a base classifier of Random Forest*"
      ],
      "metadata": {
        "id": "SV3oDkajpY38"
      }
    },
    {
      "cell_type": "code",
      "source": [
        "from sklearn.model_selection import train_test_split\n",
        "from sklearn.ensemble import RandomForestClassifier\n",
        "from sklearn.ensemble import BaggingClassifier\n",
        "\n",
        "# Initialize the base random forest classifier\n",
        "base_classifier = RandomForestClassifier()\n",
        "\n",
        "# Initialize the bagging classifier with random forest as base estimator\n",
        "bagging_classifier = BaggingClassifier(estimator=base_classifier, n_estimators=10, random_state=42)\n",
        "\n",
        "# Train the bagging classifier\n",
        "bagging_classifier.fit(X_train, y_train)\n",
        "\n",
        "# Make predictions\n",
        "y_pred = bagging_classifier.predict(X_test)\n",
        "\n",
        "# Evaluate the model\n",
        "accuracy = accuracy_score(y_test, y_pred)\n",
        "ebt2_conf_matrix = confusion_matrix(y_test, y_pred)\n",
        "class_report = classification_report(y_test, y_pred)\n",
        "\n",
        "print(\"Accuracy:\", accuracy)\n",
        "print(\"Confusion Matrix:\\n\", ebt2_conf_matrix)\n",
        "print(\"Classification Report:\\n\", class_report)\n",
        "\n",
        "# Plot confusion matrix\n",
        "from sklearn.metrics import ConfusionMatrixDisplay\n",
        "plt.figure(figsize=(4, 3))\n",
        "ConfusionMatrixDisplay(ebt2_conf_matrix, display_labels=['A', 'V' ]).plot()\n",
        "plt.title('EBT-RF')\n",
        "plt.show()"
      ],
      "metadata": {
        "id": "dHtOKi2kpdtH",
        "colab": {
          "base_uri": "https://localhost:8080/",
          "height": 732
        },
        "outputId": "2727c40e-f8d8-4efe-c330-57c700025a44"
      },
      "execution_count": null,
      "outputs": [
        {
          "output_type": "stream",
          "name": "stdout",
          "text": [
            "Accuracy: 0.958414554905783\n",
            "Confusion Matrix:\n",
            " [[772  43]\n",
            " [ 21 703]]\n",
            "Classification Report:\n",
            "               precision    recall  f1-score   support\n",
            "\n",
            "           0       0.97      0.95      0.96       815\n",
            "           1       0.94      0.97      0.96       724\n",
            "\n",
            "    accuracy                           0.96      1539\n",
            "   macro avg       0.96      0.96      0.96      1539\n",
            "weighted avg       0.96      0.96      0.96      1539\n",
            "\n"
          ]
        },
        {
          "output_type": "display_data",
          "data": {
            "text/plain": [
              "<Figure size 400x300 with 0 Axes>"
            ]
          },
          "metadata": {}
        },
        {
          "output_type": "display_data",
          "data": {
            "text/plain": [
              "<Figure size 640x480 with 2 Axes>"
            ],
            "image/png": "[encoded data removed]"
          },
          "metadata": {}
        }
      ]
    },
    {
      "cell_type": "markdown",
      "source": [
        "# SVM"
      ],
      "metadata": {
        "id": "CBlQfQxRqwfA"
      }
    },
    {
      "cell_type": "code",
      "source": [
        "from sklearn.svm import SVC\n",
        "from sklearn.metrics import accuracy_score, classification_report, confusion_matrix\n",
        "from sklearn.model_selection import train_test_split\n",
        "from sklearn.preprocessing import StandardScaler"
      ],
      "metadata": {
        "id": "oNURmcYNq1ET"
      },
      "execution_count": null,
      "outputs": []
    },
    {
      "cell_type": "code",
      "source": [
        "# Create SVM model\n",
        "svm_model = SVC(kernel='rbf', random_state=42)\n",
        "\n",
        "# Train the SVM model\n",
        "svm_model.fit(X_train, y_train)\n",
        "\n",
        "# Make predictions on the testing set\n",
        "y_pred = svm_model.predict(X_test)\n",
        "\n",
        "svm_conf_matrix = confusion_matrix(y_test, y_pred)\n",
        "\n",
        "# Calculate accuracy\n",
        "accuracy = accuracy_score(y_test, y_pred)\n",
        "print(\"Test Accuracy:\", accuracy)\n",
        "\n",
        "# Print confusion matrix\n",
        "print(\"Confusion Matrix:\")\n",
        "print(svm_conf_matrix)\n",
        "\n",
        "# Print classification report\n",
        "print(\"\\nClassification Report:\")\n",
        "print(classification_report(y_test, y_pred))\n",
        "\n",
        "\n",
        "# Plot confusion matrix\n",
        "plt.figure(figsize=(4, 3))\n",
        "ConfusionMatrixDisplay(svm_conf_matrix, display_labels=['A', 'V' ]).plot()\n",
        "plt.title('SVM')\n",
        "plt.show()"
      ],
      "metadata": {
        "colab": {
          "base_uri": "https://localhost:8080/",
          "height": 750
        },
        "id": "6DoLqbugq7C1",
        "outputId": "e05631ab-ed7c-404c-ac59-fb29d7bad49e"
      },
      "execution_count": null,
      "outputs": [
        {
          "output_type": "stream",
          "name": "stdout",
          "text": [
            "Test Accuracy: 0.8492527615334633\n",
            "Confusion Matrix:\n",
            "[[763  52]\n",
            " [180 544]]\n",
            "\n",
            "Classification Report:\n",
            "              precision    recall  f1-score   support\n",
            "\n",
            "           0       0.81      0.94      0.87       815\n",
            "           1       0.91      0.75      0.82       724\n",
            "\n",
            "    accuracy                           0.85      1539\n",
            "   macro avg       0.86      0.84      0.85      1539\n",
            "weighted avg       0.86      0.85      0.85      1539\n",
            "\n"
          ]
        },
        {
          "output_type": "display_data",
          "data": {
            "text/plain": [
              "<Figure size 400x300 with 0 Axes>"
            ]
          },
          "metadata": {}
        },
        {
          "output_type": "display_data",
          "data": {
            "text/plain": [
              "<Figure size 640x480 with 2 Axes>"
            ],
            "image/png": "[encoded data removed]"
          },
          "metadata": {}
        }
      ]
    },
    {
      "cell_type": "markdown",
      "source": [
        "# Gradient Boosting Machine"
      ],
      "metadata": {
        "id": "EDUqRMq7rEHs"
      }
    },
    {
      "cell_type": "code",
      "source": [
        "import xgboost as xgb\n",
        "from sklearn.metrics import accuracy_score, classification_report, confusion_matrix\n",
        "from sklearn.model_selection import train_test_split"
      ],
      "metadata": {
        "id": "w2lyMVNrrNDe"
      },
      "execution_count": null,
      "outputs": []
    },
    {
      "cell_type": "code",
      "source": [
        "# Create XGBoost model\n",
        "xgb_model = xgb.XGBClassifier(objective=\"binary:logistic\", random_state=42)\n",
        "\n",
        "# Train the XGBoost model\n",
        "xgb_model.fit(X_train, y_train)\n",
        "\n",
        "# Make predictions on the testing set\n",
        "y_pred = xgb_model.predict(X_test)\n",
        "\n",
        "gbm_conf_matrix = confusion_matrix(y_test, y_pred)\n",
        "# Calculate accuracy\n",
        "accuracy = accuracy_score(y_test, y_pred)\n",
        "print(\"Test Accuracy:\", accuracy)\n",
        "\n",
        "# Print confusion matrix\n",
        "print(\"Confusion Matrix:\")\n",
        "print(gbm_conf_matrix)\n",
        "\n",
        "# Print classification report\n",
        "print(\"\\nClassification Report:\")\n",
        "print(classification_report(y_test, y_pred))\n",
        "\n",
        "\n",
        "# Plot confusion matrix\n",
        "plt.figure(figsize=(4, 3))\n",
        "ConfusionMatrixDisplay(gbm_conf_matrix, display_labels=['A', 'V' ]).plot()\n",
        "plt.title('Gradient Boosting Machine')\n",
        "plt.show()"
      ],
      "metadata": {
        "colab": {
          "base_uri": "https://localhost:8080/",
          "height": 750
        },
        "id": "2Eq1LljLrQFn",
        "outputId": "e0add13b-14a0-4d2b-b0bc-c7dd66ef15e4"
      },
      "execution_count": null,
      "outputs": [
        {
          "output_type": "stream",
          "name": "stdout",
          "text": [
            "Test Accuracy: 0.9571150097465887\n",
            "Confusion Matrix:\n",
            "[[780  35]\n",
            " [ 31 693]]\n",
            "\n",
            "Classification Report:\n",
            "              precision    recall  f1-score   support\n",
            "\n",
            "           0       0.96      0.96      0.96       815\n",
            "           1       0.95      0.96      0.95       724\n",
            "\n",
            "    accuracy                           0.96      1539\n",
            "   macro avg       0.96      0.96      0.96      1539\n",
            "weighted avg       0.96      0.96      0.96      1539\n",
            "\n"
          ]
        },
        {
          "output_type": "display_data",
          "data": {
            "text/plain": [
              "<Figure size 400x300 with 0 Axes>"
            ]
          },
          "metadata": {}
        },
        {
          "output_type": "display_data",
          "data": {
            "text/plain": [
              "<Figure size 640x480 with 2 Axes>"
            ],
            "image/png": "[encoded data removed]"
          },
          "metadata": {}
        }
      ]
    },
    {
      "cell_type": "markdown",
      "source": [
        "#MLP model - Deep Learning\n"
      ],
      "metadata": {
        "id": "DHm5BF1Pf0yq"
      }
    },
    {
      "cell_type": "code",
      "source": [
        "# Define the model\n",
        "model = Sequential()\n",
        "\n",
        "# Input layer\n",
        "model.add(Dense(units=64, activation='relu', input_shape=(X_train.shape[1],)))\n",
        "\n",
        "# Hidden layers\n",
        "model.add(Dense(units=128, activation='relu'))\n",
        "model.add(Dropout(0.5))  # Dropout to prevent overfitting\n",
        "model.add(Dense(units=64, activation='relu'))\n",
        "model.add(Dropout(0.5))  # Dropout to prevent overfitting\n",
        "\n",
        "# Output layer\n",
        "model.add(Dense(units=1, activation='sigmoid'))  # Use 'softmax' for multi-class classification\n",
        "\n",
        "# Compile the model\n",
        "model.compile(optimizer='adam', loss='binary_crossentropy', metrics=['accuracy'])\n"
      ],
      "metadata": {
        "colab": {
          "base_uri": "https://localhost:8080/"
        },
        "id": "8Dv6TsT4fRaa",
        "outputId": "cbdb86ff-ac0d-4e08-cf29-ddbbde9f2237"
      },
      "execution_count": 16,
      "outputs": [
        {
          "output_type": "stream",
          "name": "stderr",
          "text": [
            "/usr/local/lib/python3.10/dist-packages/keras/src/layers/core/dense.py:87: UserWarning: Do not pass an `input_shape`/`input_dim` argument to a layer. When using Sequential models, prefer using an `Input(shape)` object as the first layer in the model instead.\n",
            "  super().__init__(activity_regularizer=activity_regularizer, **kwargs)\n"
          ]
        }
      ]
    },
    {
      "cell_type": "code",
      "source": [
        "# Train the model\n",
        "history = model.fit(X_train, y_train, epochs=50, batch_size=32, validation_split=0.2)\n"
      ],
      "metadata": {
        "colab": {
          "base_uri": "https://localhost:8080/"
        },
        "id": "TC5vGGC-f6ta",
        "outputId": "ea959800-f9a6-42bc-cb0e-e260bc9c95af"
      },
      "execution_count": 17,
      "outputs": [
        {
          "output_type": "stream",
          "name": "stdout",
          "text": [
            "Epoch 1/50\n",
            "\u001b[1m154/154\u001b[0m \u001b[32m━━━━━━━━━━━━━━━━━━━━\u001b[0m\u001b[37m\u001b[0m \u001b[1m9s\u001b[0m 13ms/step - accuracy: 0.6580 - loss: 0.6276 - val_accuracy: 0.7774 - val_loss: 0.4562\n",
            "Epoch 2/50\n",
            "\u001b[1m154/154\u001b[0m \u001b[32m━━━━━━━━━━━━━━━━━━━━\u001b[0m\u001b[37m\u001b[0m \u001b[1m2s\u001b[0m 7ms/step - accuracy: 0.7607 - loss: 0.5037 - val_accuracy: 0.8237 - val_loss: 0.3828\n",
            "Epoch 3/50\n",
            "\u001b[1m154/154\u001b[0m \u001b[32m━━━━━━━━━━━━━━━━━━━━\u001b[0m\u001b[37m\u001b[0m \u001b[1m2s\u001b[0m 10ms/step - accuracy: 0.7955 - loss: 0.4230 - val_accuracy: 0.8440 - val_loss: 0.3514\n",
            "Epoch 4/50\n",
            "\u001b[1m154/154\u001b[0m \u001b[32m━━━━━━━━━━━━━━━━━━━━\u001b[0m\u001b[37m\u001b[0m \u001b[1m3s\u001b[0m 16ms/step - accuracy: 0.8348 - loss: 0.3622 - val_accuracy: 0.8578 - val_loss: 0.3259\n",
            "Epoch 5/50\n",
            "\u001b[1m154/154\u001b[0m \u001b[32m━━━━━━━━━━━━━━━━━━━━\u001b[0m\u001b[37m\u001b[0m \u001b[1m1s\u001b[0m 7ms/step - accuracy: 0.8422 - loss: 0.3527 - val_accuracy: 0.8627 - val_loss: 0.3189\n",
            "Epoch 6/50\n",
            "\u001b[1m154/154\u001b[0m \u001b[32m━━━━━━━━━━━━━━━━━━━━\u001b[0m\u001b[37m\u001b[0m \u001b[1m1s\u001b[0m 6ms/step - accuracy: 0.8546 - loss: 0.3315 - val_accuracy: 0.8700 - val_loss: 0.3004\n",
            "Epoch 7/50\n",
            "\u001b[1m154/154\u001b[0m \u001b[32m━━━━━━━━━━━━━━━━━━━━\u001b[0m\u001b[37m\u001b[0m \u001b[1m1s\u001b[0m 7ms/step - accuracy: 0.8568 - loss: 0.3114 - val_accuracy: 0.8708 - val_loss: 0.2954\n",
            "Epoch 8/50\n",
            "\u001b[1m154/154\u001b[0m \u001b[32m━━━━━━━━━━━━━━━━━━━━\u001b[0m\u001b[37m\u001b[0m \u001b[1m1s\u001b[0m 7ms/step - accuracy: 0.8614 - loss: 0.3129 - val_accuracy: 0.8757 - val_loss: 0.2823\n",
            "Epoch 9/50\n",
            "\u001b[1m154/154\u001b[0m \u001b[32m━━━━━━━━━━━━━━━━━━━━\u001b[0m\u001b[37m\u001b[0m \u001b[1m1s\u001b[0m 6ms/step - accuracy: 0.8766 - loss: 0.2829 - val_accuracy: 0.8822 - val_loss: 0.2779\n",
            "Epoch 10/50\n",
            "\u001b[1m154/154\u001b[0m \u001b[32m━━━━━━━━━━━━━━━━━━━━\u001b[0m\u001b[37m\u001b[0m \u001b[1m1s\u001b[0m 5ms/step - accuracy: 0.8659 - loss: 0.2812 - val_accuracy: 0.8830 - val_loss: 0.2735\n",
            "Epoch 11/50\n",
            "\u001b[1m154/154\u001b[0m \u001b[32m━━━━━━━━━━━━━━━━━━━━\u001b[0m\u001b[37m\u001b[0m \u001b[1m1s\u001b[0m 7ms/step - accuracy: 0.8773 - loss: 0.2772 - val_accuracy: 0.8749 - val_loss: 0.2689\n",
            "Epoch 12/50\n",
            "\u001b[1m154/154\u001b[0m \u001b[32m━━━━━━━━━━━━━━━━━━━━\u001b[0m\u001b[37m\u001b[0m \u001b[1m1s\u001b[0m 7ms/step - accuracy: 0.8780 - loss: 0.2767 - val_accuracy: 0.8725 - val_loss: 0.2745\n",
            "Epoch 13/50\n",
            "\u001b[1m154/154\u001b[0m \u001b[32m━━━━━━━━━━━━━━━━━━━━\u001b[0m\u001b[37m\u001b[0m \u001b[1m1s\u001b[0m 7ms/step - accuracy: 0.8722 - loss: 0.2736 - val_accuracy: 0.8814 - val_loss: 0.2619\n",
            "Epoch 14/50\n",
            "\u001b[1m154/154\u001b[0m \u001b[32m━━━━━━━━━━━━━━━━━━━━\u001b[0m\u001b[37m\u001b[0m \u001b[1m1s\u001b[0m 9ms/step - accuracy: 0.8800 - loss: 0.2631 - val_accuracy: 0.8806 - val_loss: 0.2567\n",
            "Epoch 15/50\n",
            "\u001b[1m154/154\u001b[0m \u001b[32m━━━━━━━━━━━━━━━━━━━━\u001b[0m\u001b[37m\u001b[0m \u001b[1m3s\u001b[0m 11ms/step - accuracy: 0.8801 - loss: 0.2533 - val_accuracy: 0.8757 - val_loss: 0.2710\n",
            "Epoch 16/50\n",
            "\u001b[1m154/154\u001b[0m \u001b[32m━━━━━━━━━━━━━━━━━━━━\u001b[0m\u001b[37m\u001b[0m \u001b[1m2s\u001b[0m 8ms/step - accuracy: 0.8906 - loss: 0.2448 - val_accuracy: 0.8838 - val_loss: 0.2512\n",
            "Epoch 17/50\n",
            "\u001b[1m154/154\u001b[0m \u001b[32m━━━━━━━━━━━━━━━━━━━━\u001b[0m\u001b[37m\u001b[0m \u001b[1m1s\u001b[0m 6ms/step - accuracy: 0.8907 - loss: 0.2434 - val_accuracy: 0.8887 - val_loss: 0.2493\n",
            "Epoch 18/50\n",
            "\u001b[1m154/154\u001b[0m \u001b[32m━━━━━━━━━━━━━━━━━━━━\u001b[0m\u001b[37m\u001b[0m \u001b[1m1s\u001b[0m 4ms/step - accuracy: 0.8938 - loss: 0.2302 - val_accuracy: 0.8887 - val_loss: 0.2388\n",
            "Epoch 19/50\n",
            "\u001b[1m154/154\u001b[0m \u001b[32m━━━━━━━━━━━━━━━━━━━━\u001b[0m\u001b[37m\u001b[0m \u001b[1m1s\u001b[0m 4ms/step - accuracy: 0.8979 - loss: 0.2261 - val_accuracy: 0.8871 - val_loss: 0.2417\n",
            "Epoch 20/50\n",
            "\u001b[1m154/154\u001b[0m \u001b[32m━━━━━━━━━━━━━━━━━━━━\u001b[0m\u001b[37m\u001b[0m \u001b[1m1s\u001b[0m 3ms/step - accuracy: 0.8952 - loss: 0.2245 - val_accuracy: 0.8855 - val_loss: 0.2447\n",
            "Epoch 21/50\n",
            "\u001b[1m154/154\u001b[0m \u001b[32m━━━━━━━━━━━━━━━━━━━━\u001b[0m\u001b[37m\u001b[0m \u001b[1m1s\u001b[0m 4ms/step - accuracy: 0.8948 - loss: 0.2312 - val_accuracy: 0.8985 - val_loss: 0.2368\n",
            "Epoch 22/50\n",
            "\u001b[1m154/154\u001b[0m \u001b[32m━━━━━━━━━━━━━━━━━━━━\u001b[0m\u001b[37m\u001b[0m \u001b[1m1s\u001b[0m 3ms/step - accuracy: 0.8945 - loss: 0.2208 - val_accuracy: 0.8976 - val_loss: 0.2264\n",
            "Epoch 23/50\n",
            "\u001b[1m154/154\u001b[0m \u001b[32m━━━━━━━━━━━━━━━━━━━━\u001b[0m\u001b[37m\u001b[0m \u001b[1m1s\u001b[0m 4ms/step - accuracy: 0.8940 - loss: 0.2298 - val_accuracy: 0.8985 - val_loss: 0.2340\n",
            "Epoch 24/50\n",
            "\u001b[1m154/154\u001b[0m \u001b[32m━━━━━━━━━━━━━━━━━━━━\u001b[0m\u001b[37m\u001b[0m \u001b[1m1s\u001b[0m 4ms/step - accuracy: 0.8954 - loss: 0.2198 - val_accuracy: 0.9074 - val_loss: 0.2140\n",
            "Epoch 25/50\n",
            "\u001b[1m154/154\u001b[0m \u001b[32m━━━━━━━━━━━━━━━━━━━━\u001b[0m\u001b[37m\u001b[0m \u001b[1m1s\u001b[0m 4ms/step - accuracy: 0.8997 - loss: 0.2079 - val_accuracy: 0.9001 - val_loss: 0.2168\n",
            "Epoch 26/50\n",
            "\u001b[1m154/154\u001b[0m \u001b[32m━━━━━━━━━━━━━━━━━━━━\u001b[0m\u001b[37m\u001b[0m \u001b[1m1s\u001b[0m 4ms/step - accuracy: 0.9018 - loss: 0.2020 - val_accuracy: 0.9001 - val_loss: 0.2230\n",
            "Epoch 27/50\n",
            "\u001b[1m154/154\u001b[0m \u001b[32m━━━━━━━━━━━━━━━━━━━━\u001b[0m\u001b[37m\u001b[0m \u001b[1m1s\u001b[0m 3ms/step - accuracy: 0.9044 - loss: 0.2076 - val_accuracy: 0.9066 - val_loss: 0.2092\n",
            "Epoch 28/50\n",
            "\u001b[1m154/154\u001b[0m \u001b[32m━━━━━━━━━━━━━━━━━━━━\u001b[0m\u001b[37m\u001b[0m \u001b[1m1s\u001b[0m 4ms/step - accuracy: 0.9128 - loss: 0.1900 - val_accuracy: 0.9041 - val_loss: 0.2211\n",
            "Epoch 29/50\n",
            "\u001b[1m154/154\u001b[0m \u001b[32m━━━━━━━━━━━━━━━━━━━━\u001b[0m\u001b[37m\u001b[0m \u001b[1m1s\u001b[0m 4ms/step - accuracy: 0.9055 - loss: 0.2029 - val_accuracy: 0.9147 - val_loss: 0.2038\n",
            "Epoch 30/50\n",
            "\u001b[1m154/154\u001b[0m \u001b[32m━━━━━━━━━━━━━━━━━━━━\u001b[0m\u001b[37m\u001b[0m \u001b[1m1s\u001b[0m 6ms/step - accuracy: 0.9140 - loss: 0.1893 - val_accuracy: 0.9131 - val_loss: 0.1935\n",
            "Epoch 31/50\n",
            "\u001b[1m154/154\u001b[0m \u001b[32m━━━━━━━━━━━━━━━━━━━━\u001b[0m\u001b[37m\u001b[0m \u001b[1m1s\u001b[0m 6ms/step - accuracy: 0.9087 - loss: 0.1972 - val_accuracy: 0.9009 - val_loss: 0.2093\n",
            "Epoch 32/50\n",
            "\u001b[1m154/154\u001b[0m \u001b[32m━━━━━━━━━━━━━━━━━━━━\u001b[0m\u001b[37m\u001b[0m \u001b[1m1s\u001b[0m 7ms/step - accuracy: 0.9140 - loss: 0.1866 - val_accuracy: 0.9131 - val_loss: 0.1971\n",
            "Epoch 33/50\n",
            "\u001b[1m154/154\u001b[0m \u001b[32m━━━━━━━━━━━━━━━━━━━━\u001b[0m\u001b[37m\u001b[0m \u001b[1m1s\u001b[0m 6ms/step - accuracy: 0.9138 - loss: 0.1891 - val_accuracy: 0.9074 - val_loss: 0.1897\n",
            "Epoch 34/50\n",
            "\u001b[1m154/154\u001b[0m \u001b[32m━━━━━━━━━━━━━━━━━━━━\u001b[0m\u001b[37m\u001b[0m \u001b[1m1s\u001b[0m 4ms/step - accuracy: 0.9167 - loss: 0.1833 - val_accuracy: 0.9163 - val_loss: 0.1841\n",
            "Epoch 35/50\n",
            "\u001b[1m154/154\u001b[0m \u001b[32m━━━━━━━━━━━━━━━━━━━━\u001b[0m\u001b[37m\u001b[0m \u001b[1m1s\u001b[0m 4ms/step - accuracy: 0.9147 - loss: 0.1850 - val_accuracy: 0.9074 - val_loss: 0.1999\n",
            "Epoch 36/50\n",
            "\u001b[1m154/154\u001b[0m \u001b[32m━━━━━━━━━━━━━━━━━━━━\u001b[0m\u001b[37m\u001b[0m \u001b[1m1s\u001b[0m 5ms/step - accuracy: 0.9116 - loss: 0.1833 - val_accuracy: 0.9090 - val_loss: 0.1865\n",
            "Epoch 37/50\n",
            "\u001b[1m154/154\u001b[0m \u001b[32m━━━━━━━━━━━━━━━━━━━━\u001b[0m\u001b[37m\u001b[0m \u001b[1m1s\u001b[0m 4ms/step - accuracy: 0.9078 - loss: 0.1925 - val_accuracy: 0.9090 - val_loss: 0.1836\n",
            "Epoch 38/50\n",
            "\u001b[1m154/154\u001b[0m \u001b[32m━━━━━━━━━━━━━━━━━━━━\u001b[0m\u001b[37m\u001b[0m \u001b[1m1s\u001b[0m 3ms/step - accuracy: 0.9129 - loss: 0.1750 - val_accuracy: 0.9131 - val_loss: 0.1945\n",
            "Epoch 39/50\n",
            "\u001b[1m154/154\u001b[0m \u001b[32m━━━━━━━━━━━━━━━━━━━━\u001b[0m\u001b[37m\u001b[0m \u001b[1m1s\u001b[0m 4ms/step - accuracy: 0.9231 - loss: 0.1681 - val_accuracy: 0.9171 - val_loss: 0.1796\n",
            "Epoch 40/50\n",
            "\u001b[1m154/154\u001b[0m \u001b[32m━━━━━━━━━━━━━━━━━━━━\u001b[0m\u001b[37m\u001b[0m \u001b[1m1s\u001b[0m 3ms/step - accuracy: 0.9170 - loss: 0.1830 - val_accuracy: 0.9131 - val_loss: 0.1825\n",
            "Epoch 41/50\n",
            "\u001b[1m154/154\u001b[0m \u001b[32m━━━━━━━━━━━━━━━━━━━━\u001b[0m\u001b[37m\u001b[0m \u001b[1m1s\u001b[0m 4ms/step - accuracy: 0.9223 - loss: 0.1659 - val_accuracy: 0.9180 - val_loss: 0.1786\n",
            "Epoch 42/50\n",
            "\u001b[1m154/154\u001b[0m \u001b[32m━━━━━━━━━━━━━━━━━━━━\u001b[0m\u001b[37m\u001b[0m \u001b[1m1s\u001b[0m 4ms/step - accuracy: 0.9208 - loss: 0.1709 - val_accuracy: 0.9188 - val_loss: 0.1721\n",
            "Epoch 43/50\n",
            "\u001b[1m154/154\u001b[0m \u001b[32m━━━━━━━━━━━━━━━━━━━━\u001b[0m\u001b[37m\u001b[0m \u001b[1m1s\u001b[0m 4ms/step - accuracy: 0.9272 - loss: 0.1597 - val_accuracy: 0.9196 - val_loss: 0.1688\n",
            "Epoch 44/50\n",
            "\u001b[1m154/154\u001b[0m \u001b[32m━━━━━━━━━━━━━━━━━━━━\u001b[0m\u001b[37m\u001b[0m \u001b[1m1s\u001b[0m 4ms/step - accuracy: 0.9219 - loss: 0.1602 - val_accuracy: 0.9131 - val_loss: 0.1721\n",
            "Epoch 45/50\n",
            "\u001b[1m154/154\u001b[0m \u001b[32m━━━━━━━━━━━━━━━━━━━━\u001b[0m\u001b[37m\u001b[0m \u001b[1m1s\u001b[0m 3ms/step - accuracy: 0.9201 - loss: 0.1634 - val_accuracy: 0.9171 - val_loss: 0.1648\n",
            "Epoch 46/50\n",
            "\u001b[1m154/154\u001b[0m \u001b[32m━━━━━━━━━━━━━━━━━━━━\u001b[0m\u001b[37m\u001b[0m \u001b[1m1s\u001b[0m 6ms/step - accuracy: 0.9183 - loss: 0.1607 - val_accuracy: 0.9180 - val_loss: 0.1633\n",
            "Epoch 47/50\n",
            "\u001b[1m154/154\u001b[0m \u001b[32m━━━━━━━━━━━━━━━━━━━━\u001b[0m\u001b[37m\u001b[0m \u001b[1m1s\u001b[0m 7ms/step - accuracy: 0.9239 - loss: 0.1514 - val_accuracy: 0.9147 - val_loss: 0.1733\n",
            "Epoch 48/50\n",
            "\u001b[1m154/154\u001b[0m \u001b[32m━━━━━━━━━━━━━━━━━━━━\u001b[0m\u001b[37m\u001b[0m \u001b[1m1s\u001b[0m 7ms/step - accuracy: 0.9251 - loss: 0.1702 - val_accuracy: 0.9204 - val_loss: 0.1623\n",
            "Epoch 49/50\n",
            "\u001b[1m154/154\u001b[0m \u001b[32m━━━━━━━━━━━━━━━━━━━━\u001b[0m\u001b[37m\u001b[0m \u001b[1m1s\u001b[0m 6ms/step - accuracy: 0.9276 - loss: 0.1608 - val_accuracy: 0.9285 - val_loss: 0.1512\n",
            "Epoch 50/50\n",
            "\u001b[1m154/154\u001b[0m \u001b[32m━━━━━━━━━━━━━━━━━━━━\u001b[0m\u001b[37m\u001b[0m \u001b[1m1s\u001b[0m 4ms/step - accuracy: 0.9302 - loss: 0.1452 - val_accuracy: 0.9180 - val_loss: 0.1499\n"
          ]
        }
      ]
    },
    {
      "cell_type": "code",
      "source": [
        "# Evaluate the model on the test data\n",
        "test_loss, test_accuracy = model.evaluate(X_test, y_test)\n",
        "print(f'Test Accuracy: {test_accuracy:.4f}')\n"
      ],
      "metadata": {
        "colab": {
          "base_uri": "https://localhost:8080/"
        },
        "id": "sUj9rsOigB6V",
        "outputId": "d8a0e574-a101-43f8-8c41-8163e53e5451"
      },
      "execution_count": 18,
      "outputs": [
        {
          "output_type": "stream",
          "name": "stdout",
          "text": [
            "\u001b[1m49/49\u001b[0m \u001b[32m━━━━━━━━━━━━━━━━━━━━\u001b[0m\u001b[37m\u001b[0m \u001b[1m0s\u001b[0m 3ms/step - accuracy: 0.9088 - loss: 0.1632\n",
            "Test Accuracy: 0.9233\n"
          ]
        }
      ]
    }
  ]
}